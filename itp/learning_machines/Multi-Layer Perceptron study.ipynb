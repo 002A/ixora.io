{
 "cells": [
  {
   "cell_type": "markdown",
   "metadata": {},
   "source": [
    "Our next assignment is to use a Multi-Layer Perceptron to study a dataset.\n",
    "\n",
    "The dataset I selected is the commonly studied [Poker Hand](http://archive.ics.uci.edu/ml/datasets/Poker+Hand) data. Each record contains data for 5 playing cards and a poker hand classification, such as full house or straight.\n",
    "\n",
    "This dataset proved to be difficult to work with. It is an example of an imbalanced dataset in that the more common poker hands like two-of-a-kind are heavily represented and the less common hands like straight and flush are not.\n",
    "\n",
    "I found that the Perceptron was able to correctly classify some poker hands very well while performing terribly for others. I suspect a very different training methodology is required to properly train a Perceptron with this dataset.\n",
    "\n",
    "<!-- TEASER_END -->\n",
    "\n",
    "I start by importing Python packages:"
   ]
  },
  {
   "cell_type": "code",
   "execution_count": 1,
   "metadata": {
    "collapsed": true
   },
   "outputs": [],
   "source": [
    "from functools import partial\n",
    "import pickle\n",
    "import re\n",
    "\n",
    "import numpy as np\n",
    "import matplotlib.pyplot as plt\n",
    "import pandas as pd\n",
    "from pandas import DataFrame, Series\n",
    "\n",
    "%matplotlib notebook\n",
    "\n",
    "import mlp"
   ]
  },
  {
   "cell_type": "markdown",
   "metadata": {},
   "source": [
    "The training and test data is provided in CSV files. The training data has 25K rows and the test data has 1M."
   ]
  },
  {
   "cell_type": "code",
   "execution_count": 2,
   "metadata": {},
   "outputs": [
    {
     "name": "stdout",
     "output_type": "stream",
     "text": [
      "(25010, 11)\n",
      "(1000000, 11)\n"
     ]
    }
   ],
   "source": [
    "train_poker_hands = pd.read_csv('data/poker-hand-training.csv',\n",
    "                                header=None,\n",
    "                                names=\"S1,C1,S2,C2,S3,C3,S4,C4,S5,C5,CLASS\".split(','))\n",
    "test_poker_hands = pd.read_csv('data/poker-hand-testing.csv',\n",
    "                                header=None,\n",
    "                                names=\"S1,C1,S2,C2,S3,C3,S4,C4,S5,C5,CLASS\".split(','))\n",
    "\n",
    "print(train_poker_hands.shape)\n",
    "print(test_poker_hands.shape)"
   ]
  },
  {
   "cell_type": "markdown",
   "metadata": {},
   "source": [
    "The data in both files contains an ordinal representing the suit and rank of each card. It also contains a classification of the hand type, as shown below.\n",
    "\n",
    "    0: Nothing in hand; not a recognized poker hand \n",
    "    1: One pair; one pair of equal ranks within five cards \n",
    "    2: Two pairs; two pairs of equal ranks within five cards \n",
    "    3: Three of a kind; three equal ranks within five cards \n",
    "    4: Straight; five cards, sequentially ranked with no gaps \n",
    "    5: Flush; five cards with the same suit \n",
    "    6: Full house; pair + different rank three of a kind \n",
    "    7: Four of a kind; four equal ranks within five cards \n",
    "    8: Straight flush; straight + flush \n",
    "    9: Royal flush; {Ace, King, Queen, Jack, Ten} + flush \n",
    "\n",
    "The data looks like this:"
   ]
  },
  {
   "cell_type": "code",
   "execution_count": 3,
   "metadata": {},
   "outputs": [
    {
     "data": {
      "text/html": [
       "<div>\n",
       "<style>\n",
       "    .dataframe thead tr:only-child th {\n",
       "        text-align: right;\n",
       "    }\n",
       "\n",
       "    .dataframe thead th {\n",
       "        text-align: left;\n",
       "    }\n",
       "\n",
       "    .dataframe tbody tr th {\n",
       "        vertical-align: top;\n",
       "    }\n",
       "</style>\n",
       "<table border=\"1\" class=\"dataframe\">\n",
       "  <thead>\n",
       "    <tr style=\"text-align: right;\">\n",
       "      <th></th>\n",
       "      <th>S1</th>\n",
       "      <th>C1</th>\n",
       "      <th>S2</th>\n",
       "      <th>C2</th>\n",
       "      <th>S3</th>\n",
       "      <th>C3</th>\n",
       "      <th>S4</th>\n",
       "      <th>C4</th>\n",
       "      <th>S5</th>\n",
       "      <th>C5</th>\n",
       "      <th>CLASS</th>\n",
       "    </tr>\n",
       "  </thead>\n",
       "  <tbody>\n",
       "    <tr>\n",
       "      <th>0</th>\n",
       "      <td>1</td>\n",
       "      <td>10</td>\n",
       "      <td>1</td>\n",
       "      <td>11</td>\n",
       "      <td>1</td>\n",
       "      <td>13</td>\n",
       "      <td>1</td>\n",
       "      <td>12</td>\n",
       "      <td>1</td>\n",
       "      <td>1</td>\n",
       "      <td>9</td>\n",
       "    </tr>\n",
       "    <tr>\n",
       "      <th>1</th>\n",
       "      <td>2</td>\n",
       "      <td>11</td>\n",
       "      <td>2</td>\n",
       "      <td>13</td>\n",
       "      <td>2</td>\n",
       "      <td>10</td>\n",
       "      <td>2</td>\n",
       "      <td>12</td>\n",
       "      <td>2</td>\n",
       "      <td>1</td>\n",
       "      <td>9</td>\n",
       "    </tr>\n",
       "    <tr>\n",
       "      <th>2</th>\n",
       "      <td>3</td>\n",
       "      <td>12</td>\n",
       "      <td>3</td>\n",
       "      <td>11</td>\n",
       "      <td>3</td>\n",
       "      <td>13</td>\n",
       "      <td>3</td>\n",
       "      <td>10</td>\n",
       "      <td>3</td>\n",
       "      <td>1</td>\n",
       "      <td>9</td>\n",
       "    </tr>\n",
       "    <tr>\n",
       "      <th>3</th>\n",
       "      <td>4</td>\n",
       "      <td>10</td>\n",
       "      <td>4</td>\n",
       "      <td>11</td>\n",
       "      <td>4</td>\n",
       "      <td>1</td>\n",
       "      <td>4</td>\n",
       "      <td>13</td>\n",
       "      <td>4</td>\n",
       "      <td>12</td>\n",
       "      <td>9</td>\n",
       "    </tr>\n",
       "    <tr>\n",
       "      <th>4</th>\n",
       "      <td>4</td>\n",
       "      <td>1</td>\n",
       "      <td>4</td>\n",
       "      <td>13</td>\n",
       "      <td>4</td>\n",
       "      <td>12</td>\n",
       "      <td>4</td>\n",
       "      <td>11</td>\n",
       "      <td>4</td>\n",
       "      <td>10</td>\n",
       "      <td>9</td>\n",
       "    </tr>\n",
       "  </tbody>\n",
       "</table>\n",
       "</div>"
      ],
      "text/plain": [
       "   S1  C1  S2  C2  S3  C3  S4  C4  S5  C5  CLASS\n",
       "0   1  10   1  11   1  13   1  12   1   1      9\n",
       "1   2  11   2  13   2  10   2  12   2   1      9\n",
       "2   3  12   3  11   3  13   3  10   3   1      9\n",
       "3   4  10   4  11   4   1   4  13   4  12      9\n",
       "4   4   1   4  13   4  12   4  11   4  10      9"
      ]
     },
     "execution_count": 3,
     "metadata": {},
     "output_type": "execute_result"
    }
   ],
   "source": [
    "train_poker_hands.head()"
   ]
  },
  {
   "cell_type": "markdown",
   "metadata": {},
   "source": [
    "The ordinals are meaningless and should be encoded using one-hot-encoding. I would prefer to use `scikit-learn` to do this but for this class I did it myself with some simple code.\n",
    "\n",
    "An important feature of this data is the card ordering. The same exact hand can be represented multiple times with the cards shuffled between slots 1-5. I could have encoded this differently using one-hot-encoding and 52 columns, one for each card. Since there are no duplicates this is a valid encoding. I elected to not do this because I wanted to preserve this aspect of the data.\n",
    "\n",
    "Notice in the code below I also shuffle the data. This is important for the batch optimization."
   ]
  },
  {
   "cell_type": "code",
   "execution_count": 4,
   "metadata": {
    "collapsed": true
   },
   "outputs": [],
   "source": [
    "def encode_poker_hand_data(poker_hands):\n",
    "    # encode data using one hot encoding\n",
    "    \n",
    "    # inner function to expand ordinals into a series of 0's and one 1\n",
    "    def encode(x, n):\n",
    "        out = [0] * n\n",
    "        out[x] = 1\n",
    "\n",
    "        return out\n",
    "\n",
    "    # dataset uses numbers 1-4 and 1-13 identify cards. Change to start at zero\n",
    "    poker_hands.iloc[:, :-1] -= 1\n",
    "\n",
    "    # encode suits (0-3)\n",
    "    temp = poker_hands['S1,S2,S3,S4,S5'.split(',')].applymap(partial(encode, n=4)).itertuples(index=False)\n",
    "    encoded_suits = DataFrame([[x for g in r for x in g] for r in temp])\n",
    "\n",
    "    # encode ranks (0-12)\n",
    "    temp = poker_hands['C1,C2,C3,C4,C5'.split(',')].applymap(partial(encode, n=13)).itertuples(index=False)\n",
    "    encoded_ranks = DataFrame([[x for g in r for x in g] for r in temp])\n",
    "\n",
    "    # put them all together. order is irrelevant\n",
    "    encoded_data = pd.concat([encoded_suits, encoded_ranks], axis=1)\n",
    "    encoded_data.columns = range(encoded_data.shape[1])\n",
    "\n",
    "    # encode hand classifications (0-9)\n",
    "    encoded_classifications = DataFrame([x for x in poker_hands['CLASS'].apply(partial(encode, n=10))])\n",
    "    \n",
    "    # shuffle data\n",
    "    random_index = np.random.permutation(encoded_data.shape[0])\n",
    "    encoded_data = encoded_data.iloc[random_index].reset_index(drop=True)\n",
    "    encoded_classifications = encoded_classifications.iloc[random_index].reset_index(drop=True)\n",
    "    \n",
    "    return encoded_data, encoded_classifications\n",
    "\n",
    "np.random.seed(42)\n",
    "\n",
    "train_X, train_Y = encode_poker_hand_data(train_poker_hands)\n",
    "test_X, test_Y = encode_poker_hand_data(test_poker_hands)"
   ]
  },
  {
   "cell_type": "markdown",
   "metadata": {},
   "source": [
    "The encoded hand data has (4 + 13) * 5 = 85 columns of 1's and 0's. It looks like this:"
   ]
  },
  {
   "cell_type": "code",
   "execution_count": 5,
   "metadata": {},
   "outputs": [
    {
     "data": {
      "text/html": [
       "<div>\n",
       "<style>\n",
       "    .dataframe thead tr:only-child th {\n",
       "        text-align: right;\n",
       "    }\n",
       "\n",
       "    .dataframe thead th {\n",
       "        text-align: left;\n",
       "    }\n",
       "\n",
       "    .dataframe tbody tr th {\n",
       "        vertical-align: top;\n",
       "    }\n",
       "</style>\n",
       "<table border=\"1\" class=\"dataframe\">\n",
       "  <thead>\n",
       "    <tr style=\"text-align: right;\">\n",
       "      <th></th>\n",
       "      <th>0</th>\n",
       "      <th>1</th>\n",
       "      <th>2</th>\n",
       "      <th>3</th>\n",
       "      <th>4</th>\n",
       "      <th>5</th>\n",
       "      <th>6</th>\n",
       "      <th>7</th>\n",
       "      <th>8</th>\n",
       "      <th>9</th>\n",
       "      <th>...</th>\n",
       "      <th>75</th>\n",
       "      <th>76</th>\n",
       "      <th>77</th>\n",
       "      <th>78</th>\n",
       "      <th>79</th>\n",
       "      <th>80</th>\n",
       "      <th>81</th>\n",
       "      <th>82</th>\n",
       "      <th>83</th>\n",
       "      <th>84</th>\n",
       "    </tr>\n",
       "  </thead>\n",
       "  <tbody>\n",
       "    <tr>\n",
       "      <th>0</th>\n",
       "      <td>0</td>\n",
       "      <td>0</td>\n",
       "      <td>1</td>\n",
       "      <td>0</td>\n",
       "      <td>1</td>\n",
       "      <td>0</td>\n",
       "      <td>0</td>\n",
       "      <td>0</td>\n",
       "      <td>0</td>\n",
       "      <td>0</td>\n",
       "      <td>...</td>\n",
       "      <td>0</td>\n",
       "      <td>1</td>\n",
       "      <td>0</td>\n",
       "      <td>0</td>\n",
       "      <td>0</td>\n",
       "      <td>0</td>\n",
       "      <td>0</td>\n",
       "      <td>0</td>\n",
       "      <td>0</td>\n",
       "      <td>0</td>\n",
       "    </tr>\n",
       "    <tr>\n",
       "      <th>1</th>\n",
       "      <td>0</td>\n",
       "      <td>1</td>\n",
       "      <td>0</td>\n",
       "      <td>0</td>\n",
       "      <td>0</td>\n",
       "      <td>1</td>\n",
       "      <td>0</td>\n",
       "      <td>0</td>\n",
       "      <td>1</td>\n",
       "      <td>0</td>\n",
       "      <td>...</td>\n",
       "      <td>0</td>\n",
       "      <td>0</td>\n",
       "      <td>0</td>\n",
       "      <td>0</td>\n",
       "      <td>0</td>\n",
       "      <td>0</td>\n",
       "      <td>1</td>\n",
       "      <td>0</td>\n",
       "      <td>0</td>\n",
       "      <td>0</td>\n",
       "    </tr>\n",
       "    <tr>\n",
       "      <th>2</th>\n",
       "      <td>0</td>\n",
       "      <td>0</td>\n",
       "      <td>0</td>\n",
       "      <td>1</td>\n",
       "      <td>1</td>\n",
       "      <td>0</td>\n",
       "      <td>0</td>\n",
       "      <td>0</td>\n",
       "      <td>0</td>\n",
       "      <td>0</td>\n",
       "      <td>...</td>\n",
       "      <td>0</td>\n",
       "      <td>0</td>\n",
       "      <td>0</td>\n",
       "      <td>0</td>\n",
       "      <td>0</td>\n",
       "      <td>0</td>\n",
       "      <td>0</td>\n",
       "      <td>0</td>\n",
       "      <td>0</td>\n",
       "      <td>0</td>\n",
       "    </tr>\n",
       "    <tr>\n",
       "      <th>3</th>\n",
       "      <td>0</td>\n",
       "      <td>1</td>\n",
       "      <td>0</td>\n",
       "      <td>0</td>\n",
       "      <td>0</td>\n",
       "      <td>0</td>\n",
       "      <td>1</td>\n",
       "      <td>0</td>\n",
       "      <td>0</td>\n",
       "      <td>1</td>\n",
       "      <td>...</td>\n",
       "      <td>1</td>\n",
       "      <td>0</td>\n",
       "      <td>0</td>\n",
       "      <td>0</td>\n",
       "      <td>0</td>\n",
       "      <td>0</td>\n",
       "      <td>0</td>\n",
       "      <td>0</td>\n",
       "      <td>0</td>\n",
       "      <td>0</td>\n",
       "    </tr>\n",
       "    <tr>\n",
       "      <th>4</th>\n",
       "      <td>0</td>\n",
       "      <td>1</td>\n",
       "      <td>0</td>\n",
       "      <td>0</td>\n",
       "      <td>0</td>\n",
       "      <td>0</td>\n",
       "      <td>0</td>\n",
       "      <td>1</td>\n",
       "      <td>0</td>\n",
       "      <td>0</td>\n",
       "      <td>...</td>\n",
       "      <td>0</td>\n",
       "      <td>0</td>\n",
       "      <td>0</td>\n",
       "      <td>0</td>\n",
       "      <td>0</td>\n",
       "      <td>0</td>\n",
       "      <td>0</td>\n",
       "      <td>1</td>\n",
       "      <td>0</td>\n",
       "      <td>0</td>\n",
       "    </tr>\n",
       "  </tbody>\n",
       "</table>\n",
       "<p>5 rows × 85 columns</p>\n",
       "</div>"
      ],
      "text/plain": [
       "   0   1   2   3   4   5   6   7   8   9  ...  75  76  77  78  79  80  81  82  \\\n",
       "0   0   0   1   0   1   0   0   0   0   0 ...   0   1   0   0   0   0   0   0   \n",
       "1   0   1   0   0   0   1   0   0   1   0 ...   0   0   0   0   0   0   1   0   \n",
       "2   0   0   0   1   1   0   0   0   0   0 ...   0   0   0   0   0   0   0   0   \n",
       "3   0   1   0   0   0   0   1   0   0   1 ...   1   0   0   0   0   0   0   0   \n",
       "4   0   1   0   0   0   0   0   1   0   0 ...   0   0   0   0   0   0   0   1   \n",
       "\n",
       "   83  84  \n",
       "0   0   0  \n",
       "1   0   0  \n",
       "2   0   0  \n",
       "3   0   0  \n",
       "4   0   0  \n",
       "\n",
       "[5 rows x 85 columns]"
      ]
     },
     "execution_count": 5,
     "metadata": {},
     "output_type": "execute_result"
    }
   ],
   "source": [
    "train_X.head()"
   ]
  },
  {
   "cell_type": "markdown",
   "metadata": {},
   "source": [
    "And the hand classifications:"
   ]
  },
  {
   "cell_type": "code",
   "execution_count": 6,
   "metadata": {},
   "outputs": [
    {
     "data": {
      "text/html": [
       "<div>\n",
       "<style>\n",
       "    .dataframe thead tr:only-child th {\n",
       "        text-align: right;\n",
       "    }\n",
       "\n",
       "    .dataframe thead th {\n",
       "        text-align: left;\n",
       "    }\n",
       "\n",
       "    .dataframe tbody tr th {\n",
       "        vertical-align: top;\n",
       "    }\n",
       "</style>\n",
       "<table border=\"1\" class=\"dataframe\">\n",
       "  <thead>\n",
       "    <tr style=\"text-align: right;\">\n",
       "      <th></th>\n",
       "      <th>0</th>\n",
       "      <th>1</th>\n",
       "      <th>2</th>\n",
       "      <th>3</th>\n",
       "      <th>4</th>\n",
       "      <th>5</th>\n",
       "      <th>6</th>\n",
       "      <th>7</th>\n",
       "      <th>8</th>\n",
       "      <th>9</th>\n",
       "    </tr>\n",
       "  </thead>\n",
       "  <tbody>\n",
       "    <tr>\n",
       "      <th>0</th>\n",
       "      <td>1</td>\n",
       "      <td>0</td>\n",
       "      <td>0</td>\n",
       "      <td>0</td>\n",
       "      <td>0</td>\n",
       "      <td>0</td>\n",
       "      <td>0</td>\n",
       "      <td>0</td>\n",
       "      <td>0</td>\n",
       "      <td>0</td>\n",
       "    </tr>\n",
       "    <tr>\n",
       "      <th>1</th>\n",
       "      <td>1</td>\n",
       "      <td>0</td>\n",
       "      <td>0</td>\n",
       "      <td>0</td>\n",
       "      <td>0</td>\n",
       "      <td>0</td>\n",
       "      <td>0</td>\n",
       "      <td>0</td>\n",
       "      <td>0</td>\n",
       "      <td>0</td>\n",
       "    </tr>\n",
       "    <tr>\n",
       "      <th>2</th>\n",
       "      <td>1</td>\n",
       "      <td>0</td>\n",
       "      <td>0</td>\n",
       "      <td>0</td>\n",
       "      <td>0</td>\n",
       "      <td>0</td>\n",
       "      <td>0</td>\n",
       "      <td>0</td>\n",
       "      <td>0</td>\n",
       "      <td>0</td>\n",
       "    </tr>\n",
       "    <tr>\n",
       "      <th>3</th>\n",
       "      <td>1</td>\n",
       "      <td>0</td>\n",
       "      <td>0</td>\n",
       "      <td>0</td>\n",
       "      <td>0</td>\n",
       "      <td>0</td>\n",
       "      <td>0</td>\n",
       "      <td>0</td>\n",
       "      <td>0</td>\n",
       "      <td>0</td>\n",
       "    </tr>\n",
       "    <tr>\n",
       "      <th>4</th>\n",
       "      <td>0</td>\n",
       "      <td>1</td>\n",
       "      <td>0</td>\n",
       "      <td>0</td>\n",
       "      <td>0</td>\n",
       "      <td>0</td>\n",
       "      <td>0</td>\n",
       "      <td>0</td>\n",
       "      <td>0</td>\n",
       "      <td>0</td>\n",
       "    </tr>\n",
       "  </tbody>\n",
       "</table>\n",
       "</div>"
      ],
      "text/plain": [
       "   0  1  2  3  4  5  6  7  8  9\n",
       "0  1  0  0  0  0  0  0  0  0  0\n",
       "1  1  0  0  0  0  0  0  0  0  0\n",
       "2  1  0  0  0  0  0  0  0  0  0\n",
       "3  1  0  0  0  0  0  0  0  0  0\n",
       "4  0  1  0  0  0  0  0  0  0  0"
      ]
     },
     "execution_count": 6,
     "metadata": {},
     "output_type": "execute_result"
    }
   ],
   "source": [
    "train_Y.head()"
   ]
  },
  {
   "cell_type": "markdown",
   "metadata": {},
   "source": [
    "Next I can set the hyperparameters for the model optimization. I will iterate 75K times in batches of 1000.\n",
    "\n",
    "I set the first hidden layer to have a dimension of 52 in the hopes that the model learns to identify the same card in different slots. "
   ]
  },
  {
   "cell_type": "code",
   "execution_count": 7,
   "metadata": {},
   "outputs": [],
   "source": [
    "# Set hyperparameters:\n",
    "sample_size = train_X.shape[1]\n",
    "output_size = train_Y.shape[1]\n",
    "batch_size = 1000\n",
    "epoch_cnt = 75000\n",
    "report_freq = 15000\n",
    "learn_rate = 0.05\n",
    "\n",
    "# Construct MLP:\n",
    "model = mlp.Mlp([sample_size, 52, 25, output_size], \"sigmod\")"
   ]
  },
  {
   "cell_type": "markdown",
   "metadata": {},
   "source": [
    "I can run the training process and will save the trained model in a pickle file. The training process takes many hours to complete. Saving the model allows me to save the model and continue later after restarting my computer."
   ]
  },
  {
   "cell_type": "code",
   "execution_count": 8,
   "metadata": {
    "scrolled": true
   },
   "outputs": [
    {
     "name": "stdout",
     "output_type": "stream",
     "text": [
      "Epoch: 0\n",
      "Error: 0.43836257761408215\n",
      "\n",
      "Epoch: 15000\n",
      "Error: 0.11310313336942192\n",
      "\n",
      "Epoch: 30000\n",
      "Error: 0.02897885358140075\n",
      "\n",
      "Epoch: 45000\n",
      "Error: 0.01729469675361829\n",
      "\n",
      "Epoch: 60000\n",
      "Error: 0.015170719539740422\n",
      "\n",
      "Epoch: 75000\n",
      "Error: 0.01420257039062697\n",
      "\n"
     ]
    }
   ],
   "source": [
    "model.train(train_X.T.values, train_Y.T.values, learn_rate,\n",
    "            epoch_cnt, batch_size, report_freq)\n",
    "\n",
    "with open('model.p', 'wb') as f:\n",
    "    pickle.dump(model, f)"
   ]
  },
  {
   "cell_type": "markdown",
   "metadata": {},
   "source": [
    "The in-sample error started out high but after 75K iterations it was reduced considerably.\n",
    "\n",
    "Reloading the model from the pickle file is simple."
   ]
  },
  {
   "cell_type": "code",
   "execution_count": 9,
   "metadata": {
    "collapsed": true
   },
   "outputs": [],
   "source": [
    "with open('model.p', 'rb') as f:\n",
    "    model = pickle.load(f)"
   ]
  },
  {
   "cell_type": "markdown",
   "metadata": {},
   "source": [
    "I can now use the model to make predictions in my test dataset."
   ]
  },
  {
   "cell_type": "code",
   "execution_count": 10,
   "metadata": {},
   "outputs": [],
   "source": [
    "test_predictions = DataFrame(model.predict(test_X.T).T)"
   ]
  },
  {
   "cell_type": "markdown",
   "metadata": {},
   "source": [
    "The predictions are probabilities between 0 and 1."
   ]
  },
  {
   "cell_type": "code",
   "execution_count": 11,
   "metadata": {},
   "outputs": [
    {
     "data": {
      "text/html": [
       "<div>\n",
       "<style>\n",
       "    .dataframe thead tr:only-child th {\n",
       "        text-align: right;\n",
       "    }\n",
       "\n",
       "    .dataframe thead th {\n",
       "        text-align: left;\n",
       "    }\n",
       "\n",
       "    .dataframe tbody tr th {\n",
       "        vertical-align: top;\n",
       "    }\n",
       "</style>\n",
       "<table border=\"1\" class=\"dataframe\">\n",
       "  <thead>\n",
       "    <tr style=\"text-align: right;\">\n",
       "      <th></th>\n",
       "      <th>0</th>\n",
       "      <th>1</th>\n",
       "      <th>2</th>\n",
       "      <th>3</th>\n",
       "      <th>4</th>\n",
       "      <th>5</th>\n",
       "      <th>6</th>\n",
       "      <th>7</th>\n",
       "      <th>8</th>\n",
       "      <th>9</th>\n",
       "    </tr>\n",
       "  </thead>\n",
       "  <tbody>\n",
       "    <tr>\n",
       "      <th>0</th>\n",
       "      <td>9.980287e-01</td>\n",
       "      <td>0.000299</td>\n",
       "      <td>1.750294e-08</td>\n",
       "      <td>8.229227e-10</td>\n",
       "      <td>0.002947</td>\n",
       "      <td>0.001297</td>\n",
       "      <td>0.001124</td>\n",
       "      <td>0.000654</td>\n",
       "      <td>0.000528</td>\n",
       "      <td>0.000551</td>\n",
       "    </tr>\n",
       "    <tr>\n",
       "      <th>1</th>\n",
       "      <td>5.770312e-04</td>\n",
       "      <td>0.995765</td>\n",
       "      <td>1.206981e-03</td>\n",
       "      <td>8.292053e-06</td>\n",
       "      <td>0.003687</td>\n",
       "      <td>0.001796</td>\n",
       "      <td>0.005324</td>\n",
       "      <td>0.000922</td>\n",
       "      <td>0.000792</td>\n",
       "      <td>0.000779</td>\n",
       "    </tr>\n",
       "    <tr>\n",
       "      <th>2</th>\n",
       "      <td>1.290287e-13</td>\n",
       "      <td>1.000000</td>\n",
       "      <td>9.999355e-01</td>\n",
       "      <td>8.510249e-01</td>\n",
       "      <td>0.004679</td>\n",
       "      <td>0.003108</td>\n",
       "      <td>0.046167</td>\n",
       "      <td>0.001397</td>\n",
       "      <td>0.001305</td>\n",
       "      <td>0.001257</td>\n",
       "    </tr>\n",
       "    <tr>\n",
       "      <th>3</th>\n",
       "      <td>9.868559e-01</td>\n",
       "      <td>0.002221</td>\n",
       "      <td>1.174163e-07</td>\n",
       "      <td>2.822749e-09</td>\n",
       "      <td>0.003153</td>\n",
       "      <td>0.001404</td>\n",
       "      <td>0.001433</td>\n",
       "      <td>0.000700</td>\n",
       "      <td>0.000559</td>\n",
       "      <td>0.000581</td>\n",
       "    </tr>\n",
       "    <tr>\n",
       "      <th>4</th>\n",
       "      <td>9.979368e-01</td>\n",
       "      <td>0.000413</td>\n",
       "      <td>2.420286e-08</td>\n",
       "      <td>8.004877e-10</td>\n",
       "      <td>0.003035</td>\n",
       "      <td>0.001254</td>\n",
       "      <td>0.001102</td>\n",
       "      <td>0.000641</td>\n",
       "      <td>0.000535</td>\n",
       "      <td>0.000515</td>\n",
       "    </tr>\n",
       "  </tbody>\n",
       "</table>\n",
       "</div>"
      ],
      "text/plain": [
       "              0         1             2             3         4         5  \\\n",
       "0  9.980287e-01  0.000299  1.750294e-08  8.229227e-10  0.002947  0.001297   \n",
       "1  5.770312e-04  0.995765  1.206981e-03  8.292053e-06  0.003687  0.001796   \n",
       "2  1.290287e-13  1.000000  9.999355e-01  8.510249e-01  0.004679  0.003108   \n",
       "3  9.868559e-01  0.002221  1.174163e-07  2.822749e-09  0.003153  0.001404   \n",
       "4  9.979368e-01  0.000413  2.420286e-08  8.004877e-10  0.003035  0.001254   \n",
       "\n",
       "          6         7         8         9  \n",
       "0  0.001124  0.000654  0.000528  0.000551  \n",
       "1  0.005324  0.000922  0.000792  0.000779  \n",
       "2  0.046167  0.001397  0.001305  0.001257  \n",
       "3  0.001433  0.000700  0.000559  0.000581  \n",
       "4  0.001102  0.000641  0.000535  0.000515  "
      ]
     },
     "execution_count": 11,
     "metadata": {},
     "output_type": "execute_result"
    }
   ],
   "source": [
    "test_predictions.head()"
   ]
  },
  {
   "cell_type": "markdown",
   "metadata": {},
   "source": [
    "The best way to get a prediction out of this is to find the column with the highest probability. I can do that with the `idxmax` function. I want to measure the accuracy of the predictions by comparing them with the true classifications."
   ]
  },
  {
   "cell_type": "code",
   "execution_count": 12,
   "metadata": {},
   "outputs": [],
   "source": [
    "predictions = test_predictions.idxmax(axis=1)\n",
    "# this just un-does the one-hot encoding...\n",
    "true_classification = test_Y.idxmax(axis=1)"
   ]
  },
  {
   "cell_type": "markdown",
   "metadata": {},
   "source": [
    "I see that the model is over 92% accurate. This doesn't seem terrible but I will dig deeper."
   ]
  },
  {
   "cell_type": "code",
   "execution_count": 13,
   "metadata": {},
   "outputs": [
    {
     "data": {
      "text/plain": [
       "0.92339400000000005"
      ]
     },
     "execution_count": 13,
     "metadata": {},
     "output_type": "execute_result"
    }
   ],
   "source": [
    "def accuracy(predictions, true_classification):\n",
    "    return (predictions == true_classification).sum() / predictions.shape[0]\n",
    "\n",
    "accuracy(predictions, true_classification)"
   ]
  },
  {
   "cell_type": "markdown",
   "metadata": {},
   "source": [
    "The shortcomings are apparent when we look at how well it did by category. Did it learn some poker hands and not others? Measuring the accuracy conditional on the poker hand classifications shows that this is in fact the case."
   ]
  },
  {
   "cell_type": "code",
   "execution_count": 14,
   "metadata": {},
   "outputs": [
    {
     "data": {
      "text/plain": [
       "Flush              0.000000\n",
       "Four of a kind     0.000000\n",
       "Full house         0.000000\n",
       "Nothing in hand    0.999870\n",
       "One pair           0.999413\n",
       "Royal flush        0.000000\n",
       "Straight           0.000000\n",
       "Straight flush     0.000000\n",
       "Three of a kind    0.000000\n",
       "Two pairs          0.000000\n",
       "dtype: float64"
      ]
     },
     "execution_count": 14,
     "metadata": {},
     "output_type": "execute_result"
    }
   ],
   "source": [
    "hands_str = \"\"\"0: Nothing in hand; not a recognized poker hand\n",
    "1: One pair; one pair of equal ranks within five cards\n",
    "2: Two pairs; two pairs of equal ranks within five cards\n",
    "3: Three of a kind; three equal ranks within five cards\n",
    "4: Straight; five cards, sequentially ranked with no gaps\n",
    "5: Flush; five cards with the same suit\n",
    "6: Full house; pair + different rank three of a kind\n",
    "7: Four of a kind; four equal ranks within five cards\n",
    "8: Straight flush; straight + flush\n",
    "9: Royal flush; {Ace, King, Queen, Jack, Ten} + flush\"\"\"\n",
    "\n",
    "hands = {int(a): b.strip() for a, b, _ in [re.split(r\"[:;]\", s, maxsplit=2) for s in hands_str.split('\\n')]}\n",
    "\n",
    "def accuracy_by_classification(predictions, true_classification, classification):\n",
    "    indx = true_classification == classification\n",
    "\n",
    "    return accuracy(predictions[indx], true_classification[indx])\n",
    "\n",
    "Series({hands[i]: accuracy_by_classification(predictions, true_classification, i) for i in range(10)})"
   ]
  },
  {
   "cell_type": "markdown",
   "metadata": {},
   "source": [
    "The model can identify One pair almost perfectly. It is usually correct when the hand is worthless but since that is half the test dataset and also the default assumption this accomplishment isn't as meaningful. It completely fails for all other hands.\n",
    "\n",
    "In the test dataset about 42% of the records are One pair and about 50% are Nothing in hand.\n",
    "\n",
    "Out of curiosity, how well does the model do for the training dataset?"
   ]
  },
  {
   "cell_type": "code",
   "execution_count": 15,
   "metadata": {},
   "outputs": [
    {
     "data": {
      "text/plain": [
       "0.92331067572970815"
      ]
     },
     "execution_count": 15,
     "metadata": {},
     "output_type": "execute_result"
    }
   ],
   "source": [
    "train_predictions = DataFrame(model.predict(train_X.T).T)\n",
    "\n",
    "predictions_train = train_predictions.idxmax(axis=1)\n",
    "true_classification_train = train_Y.idxmax(axis=1)\n",
    "\n",
    "accuracy(predictions_train, true_classification_train)"
   ]
  },
  {
   "cell_type": "markdown",
   "metadata": {},
   "source": [
    "92.5%. And conditional on classification?"
   ]
  },
  {
   "cell_type": "code",
   "execution_count": 16,
   "metadata": {},
   "outputs": [
    {
     "data": {
      "text/plain": [
       "Flush              0.0\n",
       "Four of a kind     0.0\n",
       "Full house         0.0\n",
       "Nothing in hand    1.0\n",
       "One pair           1.0\n",
       "Royal flush        0.0\n",
       "Straight           0.0\n",
       "Straight flush     0.0\n",
       "Three of a kind    0.0\n",
       "Two pairs          0.0\n",
       "dtype: float64"
      ]
     },
     "execution_count": 16,
     "metadata": {},
     "output_type": "execute_result"
    }
   ],
   "source": [
    "Series({hands[i]: accuracy_by_classification(predictions_train, true_classification_train, i) for i in range(10)})"
   ]
  },
  {
   "cell_type": "markdown",
   "metadata": {},
   "source": [
    "The training dataset also learned to identify One pair.\n",
    "\n",
    "There could be a number of reasons for this poorly performing model. I believe it is stuck in a local minimum that identifies Pairs and nothing else. Perhaps I need to train it for more iterations. Or perhaps the model needs more layers to correctly incorporate more complex logic.\n",
    "\n",
    "Out of curiosity, what are the model's second choice for each hand? Are those correct?\n",
    "\n",
    "I can find out by repeating the above code after setting the probabilities of the model's first choices to zero. Then the `idxmax` function will show me the model's second choices."
   ]
  },
  {
   "cell_type": "code",
   "execution_count": 17,
   "metadata": {
    "collapsed": true
   },
   "outputs": [],
   "source": [
    "test_predictions2 = test_predictions.copy()\n",
    "\n",
    "def set_max_to_zero(row):\n",
    "    row = row.copy()\n",
    "    row[row.argmax()] = 0\n",
    "    return row\n",
    "\n",
    "test_predictions2 = test_predictions2.apply(set_max_to_zero, axis=1)\n",
    "\n",
    "predictions_2nd_choice = test_predictions2.idxmax(axis=1)"
   ]
  },
  {
   "cell_type": "markdown",
   "metadata": {},
   "source": [
    "I see that the second choices are OK. It can identify Two pairs."
   ]
  },
  {
   "cell_type": "code",
   "execution_count": 18,
   "metadata": {},
   "outputs": [
    {
     "data": {
      "text/plain": [
       "Flush              0.000000\n",
       "Four of a kind     0.000000\n",
       "Full house         0.000000\n",
       "Nothing in hand    0.000130\n",
       "One pair           0.000587\n",
       "Royal flush        0.000000\n",
       "Straight           0.095753\n",
       "Straight flush     0.000000\n",
       "Three of a kind    0.000000\n",
       "Two pairs          0.986141\n",
       "dtype: float64"
      ]
     },
     "execution_count": 18,
     "metadata": {},
     "output_type": "execute_result"
    }
   ],
   "source": [
    "Series({hands[i]: accuracy_by_classification(predictions_2nd_choice, true_classification, i) for i in range(10)})"
   ]
  },
  {
   "cell_type": "markdown",
   "metadata": {},
   "source": [
    "This suggests to me that there is some hope in the current model.\n",
    "\n",
    "When I fit this model over the weekend I used the \"tanh\" activation function with 50K iterations. That model was able to identify some Straights (first choice) in the test dataset. Its second choices correctly identified Two pairs and Three of a kind perfectly. It also correctly identified two out of three of the Royal flush records in the dataset. \n",
    "\n",
    "The code I am using is provided to me by our instructor, Patrick. I intend to recode this in TensorFlow because it will then use my GPU to perform the calculations much faster. I should also be fiddling with the learning rate and other parameters to understand how that impacts the final result.\n",
    "\n",
    "This dataset may benefit from an optimization process that weights prediction errors by the inverse proportion of the record classification's frequency. This would force the model to consider the rare poker hands at the beginning instead of making the quickest gains fitting the model for One pair. I suspect that the model structures itself to identify pairs but can't move away from that to identify other hands as well. Essentially, it gets stuck in a large local minimum.\n",
    "\n",
    "There must also be research papers or other materials using this dataset doing exactly what I am doing now. They are worth reading and learning from.\n",
    "\n",
    "I think there is a lot to be gained by extensively modeling a single dataset with many models and many hyperparameter settings. I can gain intuition into what the parameters mean and how they affect model performance and speed. I intend to do this after the conclusion of this class when I have more time."
   ]
  }
 ],
 "metadata": {
  "kernelspec": {
   "display_name": "Python 3",
   "language": "python",
   "name": "python3"
  },
  "language_info": {
   "codemirror_mode": {
    "name": "ipython",
    "version": 3
   },
   "file_extension": ".py",
   "mimetype": "text/x-python",
   "name": "python",
   "nbconvert_exporter": "python",
   "pygments_lexer": "ipython3",
   "version": "3.6.3"
  },
  "nikola": {
   "date": "2017-12-11 08:58:13 ET",
   "slug": "multi-layer-perceptron",
   "tags": [
    "python",
    "itp",
    "learning machines"
   ],
   "title": "Multi-Layer Perceptron Study"
  }
 },
 "nbformat": 4,
 "nbformat_minor": 2
}
