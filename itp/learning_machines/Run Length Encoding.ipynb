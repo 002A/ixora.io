{
 "cells": [
  {
   "cell_type": "markdown",
   "metadata": {},
   "source": [
    "Our first assignment in our Learning Machines class is to implement a run length encoder and decoder. This is a simple data compression algorithm that benefits from repeated patterns.\n",
    "\n",
    "It happens that I previously had an idea for an Arduino project that requires a light-weight data decompression algorithm to decode audio data. I was going to use run length encoding because it is simple to implement and the code itself won't take up much of the Arduino's precious memory. I'll also need to encode the audio files in Python, and I'll use the below code to do it.\n",
    "\n",
    "<!-- TEASER_END -->\n",
    "\n",
    "The example given in class is for a string, such as:\n",
    "\n",
    "`\"WWWWBB111WWB22WWWW22BBW111\"`\n",
    "  \n",
    "being converted to somethign like this:\n",
    "\n",
    "`[(4, 'W'), (2, 'B'), (3, '1'), (2, 'W'), (1, 'B'), (2, '2'), (4, 'W'), (2, '2'), (2, 'B'), (1, 'W'), (3, '1')]`\n",
    "\n",
    "Each Python tuple stores a character and a number indicating how many times that character appears at the given location in the sequence. The original sequence can be reconstructed from the encoded sequence. Ideally this new representation of the data will take up less memory than the original.\n",
    "\n",
    "The simplest and most straightforward way to implement this encoding is with regular expressions."
   ]
  },
  {
   "cell_type": "code",
   "execution_count": 1,
   "metadata": {},
   "outputs": [
    {
     "name": "stdout",
     "output_type": "stream",
     "text": [
      "[(4, 'W'), (2, 'B'), (3, '1'), (2, 'W'), (1, 'B'), (2, '2'), (4, 'W'), (2, '2'), (2, 'B'), (1, 'W'), (3, '1')]\n"
     ]
    }
   ],
   "source": [
    "import re\n",
    "\n",
    "def encode1(sequence):\n",
    "    return [(len(a), b) for a, b in re.findall(r'((\\w)\\2*)', sequence)]\n",
    "\n",
    "test1 = \"WWWWBB111WWB22WWWW22BBW111\"\n",
    "\n",
    "encoded1 = encode1(test1)\n",
    "\n",
    "print(encoded1)"
   ]
  },
  {
   "cell_type": "markdown",
   "metadata": {},
   "source": [
    "This can be easily decoded, giving the same sequence as the original."
   ]
  },
  {
   "cell_type": "code",
   "execution_count": 2,
   "metadata": {},
   "outputs": [
    {
     "name": "stdout",
     "output_type": "stream",
     "text": [
      "WWWWBB111WWB22WWWW22BBW111\n"
     ]
    }
   ],
   "source": [
    "def decode1(compressed):\n",
    "    return ''.join([''.join([c] * n) for n, c in compressed])\n",
    "\n",
    "print(decode1(encoded1))"
   ]
  },
  {
   "cell_type": "markdown",
   "metadata": {},
   "source": [
    "Regular expressions only work if the input is a string. That won't work for my Arduino project. What if instead the input is a sequence of numbers? That's easy to do with Python's [itertools](https://docs.python.org/3/library/itertools.html) package."
   ]
  },
  {
   "cell_type": "code",
   "execution_count": 3,
   "metadata": {},
   "outputs": [
    {
     "name": "stdout",
     "output_type": "stream",
     "text": [
      "[(2, 3), (1, 4), (1, 5), (4, 6), (2, 3), (5, 2)]\n"
     ]
    }
   ],
   "source": [
    "from itertools import groupby\n",
    "\n",
    "test2 = [3, 3, 4, 5, 6, 6, 6, 6, 3, 3, 2, 2, 2, 2, 2]\n",
    "\n",
    "def encode2(sequence):\n",
    "    return [(len(list(b)), a) for a, b in groupby(sequence)]\n",
    "\n",
    "encoded2 = encode2(test2)\n",
    "\n",
    "print(encoded2)"
   ]
  },
  {
   "cell_type": "markdown",
   "metadata": {},
   "source": [
    "Decoding this is similar to `decode1`:"
   ]
  },
  {
   "cell_type": "code",
   "execution_count": 4,
   "metadata": {},
   "outputs": [
    {
     "name": "stdout",
     "output_type": "stream",
     "text": [
      "[3, 3, 4, 5, 6, 6, 6, 6, 3, 3, 2, 2, 2, 2, 2]\n"
     ]
    }
   ],
   "source": [
    "def decode2(compressed):\n",
    "    return [x for y in [[c] * n for n, c in compressed] for x in y]\n",
    "\n",
    "print(decode2(encoded2))"
   ]
  },
  {
   "cell_type": "markdown",
   "metadata": {},
   "source": [
    "It happens this new `encode2` function can encode strings just as well as a sequence of numbers."
   ]
  },
  {
   "cell_type": "code",
   "execution_count": 5,
   "metadata": {},
   "outputs": [
    {
     "name": "stdout",
     "output_type": "stream",
     "text": [
      "[(4, 'W'), (2, 'B'), (3, '1'), (2, 'W'), (1, 'B'), (2, '2'), (4, 'W'), (2, '2'), (2, 'B'), (1, 'W'), (3, '1')]\n"
     ]
    }
   ],
   "source": [
    "print(encode2(test1))"
   ]
  },
  {
   "cell_type": "markdown",
   "metadata": {},
   "source": [
    "Since the second solution is more versatile, it is the better solution."
   ]
  }
 ],
 "metadata": {
  "kernelspec": {
   "display_name": "Python 3",
   "language": "python",
   "name": "python3"
  },
  "language_info": {
   "codemirror_mode": {
    "name": "ipython",
    "version": 3
   },
   "file_extension": ".py",
   "mimetype": "text/x-python",
   "name": "python",
   "nbconvert_exporter": "python",
   "pygments_lexer": "ipython3",
   "version": "3.6.3"
  },
  "nikola": {
   "date": "2017-11-11 23:33:52 UTC",
   "slug": "run-length-encoding",
   "tags": [
    "python",
    "itp",
    "learning machines"
   ],
   "title": "Run Length Encoding"
  }
 },
 "nbformat": 4,
 "nbformat_minor": 2
}
